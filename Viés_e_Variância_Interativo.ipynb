{
  "nbformat": 4,
  "nbformat_minor": 0,
  "metadata": {
    "colab": {
      "name": "Viés e Variância Interativo",
      "provenance": [],
      "collapsed_sections": [],
      "toc_visible": true,
      "authorship_tag": "ABX9TyOAi4rx0ChA09w7QgJgOdcy",
      "include_colab_link": true
    },
    "kernelspec": {
      "name": "python3",
      "display_name": "Python 3"
    },
    "widgets": {
      "application/vnd.jupyter.widget-state+json": {
        "5646fc5c10f34b49b60b7a30144a1d67": {
          "model_module": "@jupyter-widgets/controls",
          "model_name": "VBoxModel",
          "state": {
            "_view_name": "VBoxView",
            "_dom_classes": [
              "widget-interact"
            ],
            "_model_name": "VBoxModel",
            "_view_module": "@jupyter-widgets/controls",
            "_model_module_version": "1.5.0",
            "_view_count": null,
            "_view_module_version": "1.5.0",
            "box_style": "",
            "layout": "IPY_MODEL_90522b7c377543128209e371515a851d",
            "_model_module": "@jupyter-widgets/controls",
            "children": [
              "IPY_MODEL_ded85fe7055b464f9e3fc93e7b8af3fd",
              "IPY_MODEL_c131821e8f3049cd9da35cd0db731d0b"
            ]
          }
        },
        "90522b7c377543128209e371515a851d": {
          "model_module": "@jupyter-widgets/base",
          "model_name": "LayoutModel",
          "state": {
            "_view_name": "LayoutView",
            "grid_template_rows": null,
            "right": null,
            "justify_content": null,
            "_view_module": "@jupyter-widgets/base",
            "overflow": null,
            "_model_module_version": "1.2.0",
            "_view_count": null,
            "flex_flow": null,
            "width": null,
            "min_width": null,
            "border": null,
            "align_items": null,
            "bottom": null,
            "_model_module": "@jupyter-widgets/base",
            "top": null,
            "grid_column": null,
            "overflow_y": null,
            "overflow_x": null,
            "grid_auto_flow": null,
            "grid_area": null,
            "grid_template_columns": null,
            "flex": null,
            "_model_name": "LayoutModel",
            "justify_items": null,
            "grid_row": null,
            "max_height": null,
            "align_content": null,
            "visibility": null,
            "align_self": null,
            "height": null,
            "min_height": null,
            "padding": null,
            "grid_auto_rows": null,
            "grid_gap": null,
            "max_width": null,
            "order": null,
            "_view_module_version": "1.2.0",
            "grid_template_areas": null,
            "object_position": null,
            "object_fit": null,
            "grid_auto_columns": null,
            "margin": null,
            "display": null,
            "left": null
          }
        },
        "ded85fe7055b464f9e3fc93e7b8af3fd": {
          "model_module": "@jupyter-widgets/controls",
          "model_name": "IntSliderModel",
          "state": {
            "_view_name": "IntSliderView",
            "style": "IPY_MODEL_03941ff363f64919849cb1dc9d7e73e1",
            "_dom_classes": [],
            "description": "spacing",
            "step": 1,
            "_model_name": "IntSliderModel",
            "orientation": "horizontal",
            "max": 10,
            "_view_module": "@jupyter-widgets/controls",
            "_model_module_version": "1.5.0",
            "value": 10,
            "_view_count": null,
            "disabled": false,
            "_view_module_version": "1.5.0",
            "min": 0,
            "continuous_update": true,
            "readout_format": "d",
            "description_tooltip": null,
            "readout": true,
            "_model_module": "@jupyter-widgets/controls",
            "layout": "IPY_MODEL_425a638386614c4fa46327c644a202ec"
          }
        },
        "c131821e8f3049cd9da35cd0db731d0b": {
          "model_module": "@jupyter-widgets/output",
          "model_name": "OutputModel",
          "state": {
            "_view_name": "OutputView",
            "msg_id": "",
            "_dom_classes": [],
            "_model_name": "OutputModel",
            "outputs": [
              {
                "output_type": "display_data",
                "metadata": {
                  "tags": [],
                  "needs_background": "light"
                },
                "image/png": "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\n",
                "text/plain": "<Figure size 720x432 with 1 Axes>"
              }
            ],
            "_view_module": "@jupyter-widgets/output",
            "_model_module_version": "1.0.0",
            "_view_count": null,
            "_view_module_version": "1.0.0",
            "layout": "IPY_MODEL_aa52eaa3aacd4c3780fa8a4763914837",
            "_model_module": "@jupyter-widgets/output"
          }
        },
        "03941ff363f64919849cb1dc9d7e73e1": {
          "model_module": "@jupyter-widgets/controls",
          "model_name": "SliderStyleModel",
          "state": {
            "_view_name": "StyleView",
            "handle_color": null,
            "_model_name": "SliderStyleModel",
            "description_width": "",
            "_view_module": "@jupyter-widgets/base",
            "_model_module_version": "1.5.0",
            "_view_count": null,
            "_view_module_version": "1.2.0",
            "_model_module": "@jupyter-widgets/controls"
          }
        },
        "425a638386614c4fa46327c644a202ec": {
          "model_module": "@jupyter-widgets/base",
          "model_name": "LayoutModel",
          "state": {
            "_view_name": "LayoutView",
            "grid_template_rows": null,
            "right": null,
            "justify_content": null,
            "_view_module": "@jupyter-widgets/base",
            "overflow": null,
            "_model_module_version": "1.2.0",
            "_view_count": null,
            "flex_flow": null,
            "width": null,
            "min_width": null,
            "border": null,
            "align_items": null,
            "bottom": null,
            "_model_module": "@jupyter-widgets/base",
            "top": null,
            "grid_column": null,
            "overflow_y": null,
            "overflow_x": null,
            "grid_auto_flow": null,
            "grid_area": null,
            "grid_template_columns": null,
            "flex": null,
            "_model_name": "LayoutModel",
            "justify_items": null,
            "grid_row": null,
            "max_height": null,
            "align_content": null,
            "visibility": null,
            "align_self": null,
            "height": null,
            "min_height": null,
            "padding": null,
            "grid_auto_rows": null,
            "grid_gap": null,
            "max_width": null,
            "order": null,
            "_view_module_version": "1.2.0",
            "grid_template_areas": null,
            "object_position": null,
            "object_fit": null,
            "grid_auto_columns": null,
            "margin": null,
            "display": null,
            "left": null
          }
        },
        "aa52eaa3aacd4c3780fa8a4763914837": {
          "model_module": "@jupyter-widgets/base",
          "model_name": "LayoutModel",
          "state": {
            "_view_name": "LayoutView",
            "grid_template_rows": null,
            "right": null,
            "justify_content": null,
            "_view_module": "@jupyter-widgets/base",
            "overflow": null,
            "_model_module_version": "1.2.0",
            "_view_count": null,
            "flex_flow": null,
            "width": null,
            "min_width": null,
            "border": null,
            "align_items": null,
            "bottom": null,
            "_model_module": "@jupyter-widgets/base",
            "top": null,
            "grid_column": null,
            "overflow_y": null,
            "overflow_x": null,
            "grid_auto_flow": null,
            "grid_area": null,
            "grid_template_columns": null,
            "flex": null,
            "_model_name": "LayoutModel",
            "justify_items": null,
            "grid_row": null,
            "max_height": null,
            "align_content": null,
            "visibility": null,
            "align_self": null,
            "height": null,
            "min_height": null,
            "padding": null,
            "grid_auto_rows": null,
            "grid_gap": null,
            "max_width": null,
            "order": null,
            "_view_module_version": "1.2.0",
            "grid_template_areas": null,
            "object_position": null,
            "object_fit": null,
            "grid_auto_columns": null,
            "margin": null,
            "display": null,
            "left": null
          }
        },
        "c1ce3b28d4354eb2b4cc53407c9d1b48": {
          "model_module": "@jupyter-widgets/controls",
          "model_name": "VBoxModel",
          "state": {
            "_view_name": "VBoxView",
            "_dom_classes": [
              "widget-interact"
            ],
            "_model_name": "VBoxModel",
            "_view_module": "@jupyter-widgets/controls",
            "_model_module_version": "1.5.0",
            "_view_count": null,
            "_view_module_version": "1.5.0",
            "box_style": "",
            "layout": "IPY_MODEL_a407936ddaca4c8cbbef7233e847c9dc",
            "_model_module": "@jupyter-widgets/controls",
            "children": [
              "IPY_MODEL_1ca9c939bcd840b591554c9a9a073a12",
              "IPY_MODEL_cb1321917ade43dcbe23a32b8c84078f"
            ]
          }
        },
        "a407936ddaca4c8cbbef7233e847c9dc": {
          "model_module": "@jupyter-widgets/base",
          "model_name": "LayoutModel",
          "state": {
            "_view_name": "LayoutView",
            "grid_template_rows": null,
            "right": null,
            "justify_content": null,
            "_view_module": "@jupyter-widgets/base",
            "overflow": null,
            "_model_module_version": "1.2.0",
            "_view_count": null,
            "flex_flow": null,
            "width": null,
            "min_width": null,
            "border": null,
            "align_items": null,
            "bottom": null,
            "_model_module": "@jupyter-widgets/base",
            "top": null,
            "grid_column": null,
            "overflow_y": null,
            "overflow_x": null,
            "grid_auto_flow": null,
            "grid_area": null,
            "grid_template_columns": null,
            "flex": null,
            "_model_name": "LayoutModel",
            "justify_items": null,
            "grid_row": null,
            "max_height": null,
            "align_content": null,
            "visibility": null,
            "align_self": null,
            "height": null,
            "min_height": null,
            "padding": null,
            "grid_auto_rows": null,
            "grid_gap": null,
            "max_width": null,
            "order": null,
            "_view_module_version": "1.2.0",
            "grid_template_areas": null,
            "object_position": null,
            "object_fit": null,
            "grid_auto_columns": null,
            "margin": null,
            "display": null,
            "left": null
          }
        },
        "1ca9c939bcd840b591554c9a9a073a12": {
          "model_module": "@jupyter-widgets/controls",
          "model_name": "IntSliderModel",
          "state": {
            "_view_name": "IntSliderView",
            "style": "IPY_MODEL_5f0dada6b41a425da2cb7c435a1b30cb",
            "_dom_classes": [],
            "description": "degree",
            "step": 1,
            "_model_name": "IntSliderModel",
            "orientation": "horizontal",
            "max": 20,
            "_view_module": "@jupyter-widgets/controls",
            "_model_module_version": "1.5.0",
            "value": 13,
            "_view_count": null,
            "disabled": false,
            "_view_module_version": "1.5.0",
            "min": 0,
            "continuous_update": true,
            "readout_format": "d",
            "description_tooltip": null,
            "readout": true,
            "_model_module": "@jupyter-widgets/controls",
            "layout": "IPY_MODEL_0be035aea78c4536aa3d00f821f63739"
          }
        },
        "cb1321917ade43dcbe23a32b8c84078f": {
          "model_module": "@jupyter-widgets/output",
          "model_name": "OutputModel",
          "state": {
            "_view_name": "OutputView",
            "msg_id": "",
            "_dom_classes": [],
            "_model_name": "OutputModel",
            "outputs": [
              {
                "output_type": "display_data",
                "metadata": {
                  "tags": [],
                  "needs_background": "light"
                },
                "image/png": "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\n",
                "text/plain": "<Figure size 720x432 with 1 Axes>"
              }
            ],
            "_view_module": "@jupyter-widgets/output",
            "_model_module_version": "1.0.0",
            "_view_count": null,
            "_view_module_version": "1.0.0",
            "layout": "IPY_MODEL_904e5e7471f44d6095adfd35fbe90384",
            "_model_module": "@jupyter-widgets/output"
          }
        },
        "5f0dada6b41a425da2cb7c435a1b30cb": {
          "model_module": "@jupyter-widgets/controls",
          "model_name": "SliderStyleModel",
          "state": {
            "_view_name": "StyleView",
            "handle_color": null,
            "_model_name": "SliderStyleModel",
            "description_width": "",
            "_view_module": "@jupyter-widgets/base",
            "_model_module_version": "1.5.0",
            "_view_count": null,
            "_view_module_version": "1.2.0",
            "_model_module": "@jupyter-widgets/controls"
          }
        },
        "0be035aea78c4536aa3d00f821f63739": {
          "model_module": "@jupyter-widgets/base",
          "model_name": "LayoutModel",
          "state": {
            "_view_name": "LayoutView",
            "grid_template_rows": null,
            "right": null,
            "justify_content": null,
            "_view_module": "@jupyter-widgets/base",
            "overflow": null,
            "_model_module_version": "1.2.0",
            "_view_count": null,
            "flex_flow": null,
            "width": null,
            "min_width": null,
            "border": null,
            "align_items": null,
            "bottom": null,
            "_model_module": "@jupyter-widgets/base",
            "top": null,
            "grid_column": null,
            "overflow_y": null,
            "overflow_x": null,
            "grid_auto_flow": null,
            "grid_area": null,
            "grid_template_columns": null,
            "flex": null,
            "_model_name": "LayoutModel",
            "justify_items": null,
            "grid_row": null,
            "max_height": null,
            "align_content": null,
            "visibility": null,
            "align_self": null,
            "height": null,
            "min_height": null,
            "padding": null,
            "grid_auto_rows": null,
            "grid_gap": null,
            "max_width": null,
            "order": null,
            "_view_module_version": "1.2.0",
            "grid_template_areas": null,
            "object_position": null,
            "object_fit": null,
            "grid_auto_columns": null,
            "margin": null,
            "display": null,
            "left": null
          }
        },
        "904e5e7471f44d6095adfd35fbe90384": {
          "model_module": "@jupyter-widgets/base",
          "model_name": "LayoutModel",
          "state": {
            "_view_name": "LayoutView",
            "grid_template_rows": null,
            "right": null,
            "justify_content": null,
            "_view_module": "@jupyter-widgets/base",
            "overflow": null,
            "_model_module_version": "1.2.0",
            "_view_count": null,
            "flex_flow": null,
            "width": null,
            "min_width": null,
            "border": null,
            "align_items": null,
            "bottom": null,
            "_model_module": "@jupyter-widgets/base",
            "top": null,
            "grid_column": null,
            "overflow_y": null,
            "overflow_x": null,
            "grid_auto_flow": null,
            "grid_area": null,
            "grid_template_columns": null,
            "flex": null,
            "_model_name": "LayoutModel",
            "justify_items": null,
            "grid_row": null,
            "max_height": null,
            "align_content": null,
            "visibility": null,
            "align_self": null,
            "height": null,
            "min_height": null,
            "padding": null,
            "grid_auto_rows": null,
            "grid_gap": null,
            "max_width": null,
            "order": null,
            "_view_module_version": "1.2.0",
            "grid_template_areas": null,
            "object_position": null,
            "object_fit": null,
            "grid_auto_columns": null,
            "margin": null,
            "display": null,
            "left": null
          }
        },
        "ea6bda312ce04559933d31c7967dba75": {
          "model_module": "@jupyter-widgets/controls",
          "model_name": "VBoxModel",
          "state": {
            "_view_name": "VBoxView",
            "_dom_classes": [
              "widget-interact"
            ],
            "_model_name": "VBoxModel",
            "_view_module": "@jupyter-widgets/controls",
            "_model_module_version": "1.5.0",
            "_view_count": null,
            "_view_module_version": "1.5.0",
            "box_style": "",
            "layout": "IPY_MODEL_c0b6f95e807d4e0789102b5e3544549f",
            "_model_module": "@jupyter-widgets/controls",
            "children": [
              "IPY_MODEL_07c7dcf05c564e6f99f2a024b8ca3e41",
              "IPY_MODEL_5c2f8b55da984b2ca91ef9ed907afe56"
            ]
          }
        },
        "c0b6f95e807d4e0789102b5e3544549f": {
          "model_module": "@jupyter-widgets/base",
          "model_name": "LayoutModel",
          "state": {
            "_view_name": "LayoutView",
            "grid_template_rows": null,
            "right": null,
            "justify_content": null,
            "_view_module": "@jupyter-widgets/base",
            "overflow": null,
            "_model_module_version": "1.2.0",
            "_view_count": null,
            "flex_flow": null,
            "width": null,
            "min_width": null,
            "border": null,
            "align_items": null,
            "bottom": null,
            "_model_module": "@jupyter-widgets/base",
            "top": null,
            "grid_column": null,
            "overflow_y": null,
            "overflow_x": null,
            "grid_auto_flow": null,
            "grid_area": null,
            "grid_template_columns": null,
            "flex": null,
            "_model_name": "LayoutModel",
            "justify_items": null,
            "grid_row": null,
            "max_height": null,
            "align_content": null,
            "visibility": null,
            "align_self": null,
            "height": null,
            "min_height": null,
            "padding": null,
            "grid_auto_rows": null,
            "grid_gap": null,
            "max_width": null,
            "order": null,
            "_view_module_version": "1.2.0",
            "grid_template_areas": null,
            "object_position": null,
            "object_fit": null,
            "grid_auto_columns": null,
            "margin": null,
            "display": null,
            "left": null
          }
        },
        "07c7dcf05c564e6f99f2a024b8ca3e41": {
          "model_module": "@jupyter-widgets/controls",
          "model_name": "IntSliderModel",
          "state": {
            "_view_name": "IntSliderView",
            "style": "IPY_MODEL_982e04cbf4b84ef2b9a276ab56c55b2e",
            "_dom_classes": [],
            "description": "degree",
            "step": 1,
            "_model_name": "IntSliderModel",
            "orientation": "horizontal",
            "max": 20,
            "_view_module": "@jupyter-widgets/controls",
            "_model_module_version": "1.5.0",
            "value": 17,
            "_view_count": null,
            "disabled": false,
            "_view_module_version": "1.5.0",
            "min": 0,
            "continuous_update": true,
            "readout_format": "d",
            "description_tooltip": null,
            "readout": true,
            "_model_module": "@jupyter-widgets/controls",
            "layout": "IPY_MODEL_2d1bfdc48b2e44dfa08a0c6f18ccde36"
          }
        },
        "5c2f8b55da984b2ca91ef9ed907afe56": {
          "model_module": "@jupyter-widgets/output",
          "model_name": "OutputModel",
          "state": {
            "_view_name": "OutputView",
            "msg_id": "",
            "_dom_classes": [],
            "_model_name": "OutputModel",
            "outputs": [
              {
                "output_type": "display_data",
                "metadata": {
                  "tags": [],
                  "needs_background": "light"
                },
                "image/png": "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\n",
                "text/plain": "<Figure size 720x720 with 2 Axes>"
              }
            ],
            "_view_module": "@jupyter-widgets/output",
            "_model_module_version": "1.0.0",
            "_view_count": null,
            "_view_module_version": "1.0.0",
            "layout": "IPY_MODEL_20d341b5e32e4c4db7c9fa16db8772e9",
            "_model_module": "@jupyter-widgets/output"
          }
        },
        "982e04cbf4b84ef2b9a276ab56c55b2e": {
          "model_module": "@jupyter-widgets/controls",
          "model_name": "SliderStyleModel",
          "state": {
            "_view_name": "StyleView",
            "handle_color": null,
            "_model_name": "SliderStyleModel",
            "description_width": "",
            "_view_module": "@jupyter-widgets/base",
            "_model_module_version": "1.5.0",
            "_view_count": null,
            "_view_module_version": "1.2.0",
            "_model_module": "@jupyter-widgets/controls"
          }
        },
        "2d1bfdc48b2e44dfa08a0c6f18ccde36": {
          "model_module": "@jupyter-widgets/base",
          "model_name": "LayoutModel",
          "state": {
            "_view_name": "LayoutView",
            "grid_template_rows": null,
            "right": null,
            "justify_content": null,
            "_view_module": "@jupyter-widgets/base",
            "overflow": null,
            "_model_module_version": "1.2.0",
            "_view_count": null,
            "flex_flow": null,
            "width": null,
            "min_width": null,
            "border": null,
            "align_items": null,
            "bottom": null,
            "_model_module": "@jupyter-widgets/base",
            "top": null,
            "grid_column": null,
            "overflow_y": null,
            "overflow_x": null,
            "grid_auto_flow": null,
            "grid_area": null,
            "grid_template_columns": null,
            "flex": null,
            "_model_name": "LayoutModel",
            "justify_items": null,
            "grid_row": null,
            "max_height": null,
            "align_content": null,
            "visibility": null,
            "align_self": null,
            "height": null,
            "min_height": null,
            "padding": null,
            "grid_auto_rows": null,
            "grid_gap": null,
            "max_width": null,
            "order": null,
            "_view_module_version": "1.2.0",
            "grid_template_areas": null,
            "object_position": null,
            "object_fit": null,
            "grid_auto_columns": null,
            "margin": null,
            "display": null,
            "left": null
          }
        },
        "20d341b5e32e4c4db7c9fa16db8772e9": {
          "model_module": "@jupyter-widgets/base",
          "model_name": "LayoutModel",
          "state": {
            "_view_name": "LayoutView",
            "grid_template_rows": null,
            "right": null,
            "justify_content": null,
            "_view_module": "@jupyter-widgets/base",
            "overflow": null,
            "_model_module_version": "1.2.0",
            "_view_count": null,
            "flex_flow": null,
            "width": null,
            "min_width": null,
            "border": null,
            "align_items": null,
            "bottom": null,
            "_model_module": "@jupyter-widgets/base",
            "top": null,
            "grid_column": null,
            "overflow_y": null,
            "overflow_x": null,
            "grid_auto_flow": null,
            "grid_area": null,
            "grid_template_columns": null,
            "flex": null,
            "_model_name": "LayoutModel",
            "justify_items": null,
            "grid_row": null,
            "max_height": null,
            "align_content": null,
            "visibility": null,
            "align_self": null,
            "height": null,
            "min_height": null,
            "padding": null,
            "grid_auto_rows": null,
            "grid_gap": null,
            "max_width": null,
            "order": null,
            "_view_module_version": "1.2.0",
            "grid_template_areas": null,
            "object_position": null,
            "object_fit": null,
            "grid_auto_columns": null,
            "margin": null,
            "display": null,
            "left": null
          }
        }
      }
    }
  },
  "cells": [
    {
      "cell_type": "markdown",
      "metadata": {
        "id": "view-in-github",
        "colab_type": "text"
      },
      "source": [
        "<a href=\"https://colab.research.google.com/github/ktakanov/InteractiveBiasAndVariance/blob/master/Vi%C3%A9s_e_Vari%C3%A2ncia_Interativo.ipynb\" target=\"_parent\"><img src=\"https://colab.research.google.com/assets/colab-badge.svg\" alt=\"Open In Colab\"/></a>"
      ]
    },
    {
      "cell_type": "markdown",
      "metadata": {
        "id": "FlX9k4qk8BED",
        "colab_type": "text"
      },
      "source": [
        "# Viés e Variância intuição e prática - com código :)"
      ]
    },
    {
      "cell_type": "markdown",
      "metadata": {
        "id": "z2t1BaAy04q1",
        "colab_type": "text"
      },
      "source": [
        "## Pré-requisitos\n",
        "- Antes de tudo precisamos instalar esta biblioteca."
      ]
    },
    {
      "cell_type": "code",
      "metadata": {
        "id": "oJ98iSxIcDwT",
        "colab_type": "code",
        "colab": {
          "base_uri": "https://localhost:8080/",
          "height": 260
        },
        "outputId": "cab75173-b3d2-44f4-d751-730476aedc15"
      },
      "source": [
        "! pip install mlxtend==0.17.3"
      ],
      "execution_count": null,
      "outputs": [
        {
          "output_type": "stream",
          "text": [
            "Requirement already satisfied: mlxtend==0.17.3 in /usr/local/lib/python3.6/dist-packages (0.17.3)\n",
            "Requirement already satisfied: scipy>=1.2.1 in /usr/local/lib/python3.6/dist-packages (from mlxtend==0.17.3) (1.4.1)\n",
            "Requirement already satisfied: scikit-learn>=0.20.3 in /usr/local/lib/python3.6/dist-packages (from mlxtend==0.17.3) (0.22.2.post1)\n",
            "Requirement already satisfied: joblib>=0.13.2 in /usr/local/lib/python3.6/dist-packages (from mlxtend==0.17.3) (0.16.0)\n",
            "Requirement already satisfied: setuptools in /usr/local/lib/python3.6/dist-packages (from mlxtend==0.17.3) (49.2.0)\n",
            "Requirement already satisfied: pandas>=0.24.2 in /usr/local/lib/python3.6/dist-packages (from mlxtend==0.17.3) (1.0.5)\n",
            "Requirement already satisfied: matplotlib>=3.0.0 in /usr/local/lib/python3.6/dist-packages (from mlxtend==0.17.3) (3.2.2)\n",
            "Requirement already satisfied: numpy>=1.16.2 in /usr/local/lib/python3.6/dist-packages (from mlxtend==0.17.3) (1.18.5)\n",
            "Requirement already satisfied: pytz>=2017.2 in /usr/local/lib/python3.6/dist-packages (from pandas>=0.24.2->mlxtend==0.17.3) (2018.9)\n",
            "Requirement already satisfied: python-dateutil>=2.6.1 in /usr/local/lib/python3.6/dist-packages (from pandas>=0.24.2->mlxtend==0.17.3) (2.8.1)\n",
            "Requirement already satisfied: cycler>=0.10 in /usr/local/lib/python3.6/dist-packages (from matplotlib>=3.0.0->mlxtend==0.17.3) (0.10.0)\n",
            "Requirement already satisfied: pyparsing!=2.0.4,!=2.1.2,!=2.1.6,>=2.0.1 in /usr/local/lib/python3.6/dist-packages (from matplotlib>=3.0.0->mlxtend==0.17.3) (2.4.7)\n",
            "Requirement already satisfied: kiwisolver>=1.0.1 in /usr/local/lib/python3.6/dist-packages (from matplotlib>=3.0.0->mlxtend==0.17.3) (1.2.0)\n",
            "Requirement already satisfied: six>=1.5 in /usr/local/lib/python3.6/dist-packages (from python-dateutil>=2.6.1->pandas>=0.24.2->mlxtend==0.17.3) (1.15.0)\n"
          ],
          "name": "stdout"
        }
      ]
    },
    {
      "cell_type": "markdown",
      "metadata": {
        "id": "CbG_c5dTNESk",
        "colab_type": "text"
      },
      "source": [
        "## Gerando dados fakes"
      ]
    },
    {
      "cell_type": "markdown",
      "metadata": {
        "id": "Il7Gup592-AM",
        "colab_type": "text"
      },
      "source": [
        "- As funções a seguir geram uma instância de dados de forma aleatória. Você não precisa entender de forma xiita elas, apenas entender a intuição.\n",
        "- A função *f* gera uma função senoidal. \n",
        "- A função *sample* usa a função *f* junto com uma distribuição aleatória para gerarmos instâncias para o nosso modelo. \n",
        "- Com isto, a partir de *sample* geramos uma entrada X para qual iremos usar um modelo de regressão para encontrar uma entrada que melhor representa X.\n"
      ]
    },
    {
      "cell_type": "code",
      "metadata": {
        "id": "ec9ctFsx8MQG",
        "colab_type": "code",
        "colab": {}
      },
      "source": [
        "import numpy as np\n",
        "import matplotlib.pyplot as plt\n",
        "import pylab as pl\n",
        "\n",
        "def f(lim=10,spacing=100):\n",
        "    \"O parâmetro lim mostra os limites em que a funçao irá aparecer. O spacing sao os numeros de pontos dentro desses limites.\"\n",
        "    x = np.linspace(-lim, lim, spacing)\n",
        "    y = 20 * np.sin(x * 1.5)\n",
        "    # y = x**(2)\n",
        "    return (x,y)\n",
        "\n",
        "def sample(lim=10,size=100,spacing=5):\n",
        "    x,y = f(lim,size)\n",
        "    randv = np.random.uniform(-spacing, spacing, size)\n",
        "    return (x, y +randv)\n"
      ],
      "execution_count": null,
      "outputs": []
    },
    {
      "cell_type": "markdown",
      "metadata": {
        "id": "atIDKNSYFJec",
        "colab_type": "text"
      },
      "source": [
        "- A célula a seguir mostra graficamente a plotagem de uma funçao senoidal com limites (-2,2) com um total de 100 instancias.\n",
        "- Ela recebe por parâmetro *spacing* que indica quão espaçados as instancias estão em relação ao eixo *y*. \n",
        "- Para entender melhor, execute a célula de interação e apenas brinque com o *spacing*."
      ]
    },
    {
      "cell_type": "code",
      "metadata": {
        "id": "ENxrB_Pp2P-r",
        "colab_type": "code",
        "colab": {}
      },
      "source": [
        "from IPython import display\n",
        "from ipywidgets import interact, widgets\n",
        "\n",
        "MAX_LIM = 2.0\n",
        "TOTAL_INSTANCES = 100\n",
        "SPACING = 5  \n",
        "\n",
        "f_x, f_y = f(MAX_LIM, TOTAL_INSTANCES)\n",
        "x, y = sample(MAX_LIM, TOTAL_INSTANCES, SPACING)\n",
        "def plotinstances(spacing):\n",
        "  x, y = sample(MAX_LIM, TOTAL_INSTANCES, spacing)\n",
        "  fig, ax = plt.subplots(figsize=(10,6))\n",
        "  ax.plot(f_x, f_y, '--',label='Modelo usado para gerar instâncias')\n",
        "  ax.scatter(x, y, marker='x',color='gray', label='Instâncias de entrada X')\n",
        "  plt.legend()"
      ],
      "execution_count": null,
      "outputs": []
    },
    {
      "cell_type": "code",
      "metadata": {
        "id": "VzfM91B0JCiv",
        "colab_type": "code",
        "colab": {
          "base_uri": "https://localhost:8080/",
          "height": 423,
          "referenced_widgets": [
            "5646fc5c10f34b49b60b7a30144a1d67",
            "90522b7c377543128209e371515a851d",
            "ded85fe7055b464f9e3fc93e7b8af3fd",
            "c131821e8f3049cd9da35cd0db731d0b",
            "03941ff363f64919849cb1dc9d7e73e1",
            "425a638386614c4fa46327c644a202ec",
            "aa52eaa3aacd4c3780fa8a4763914837"
          ]
        },
        "outputId": "64ad0f9d-2b98-448b-a374-a32e727d0895"
      },
      "source": [
        "interact(plotinstances,spacing=widgets.IntSlider(min=0,max=10,step=1,value=10))"
      ],
      "execution_count": null,
      "outputs": [
        {
          "output_type": "display_data",
          "data": {
            "application/vnd.jupyter.widget-view+json": {
              "model_id": "5646fc5c10f34b49b60b7a30144a1d67",
              "version_minor": 0,
              "version_major": 2
            },
            "text/plain": [
              "interactive(children=(IntSlider(value=10, description='spacing', max=10), Output()), _dom_classes=('widget-int…"
            ]
          },
          "metadata": {
            "tags": []
          }
        },
        {
          "output_type": "execute_result",
          "data": {
            "text/plain": [
              "<function __main__.plotinstances>"
            ]
          },
          "metadata": {
            "tags": []
          },
          "execution_count": 3
        }
      ]
    },
    {
      "cell_type": "markdown",
      "metadata": {
        "id": "rLR9wZ77OJXx",
        "colab_type": "text"
      },
      "source": [
        "## Gerando um modelo de regressão polinomial"
      ]
    },
    {
      "cell_type": "markdown",
      "metadata": {
        "id": "A-0rhZLoMoLu",
        "colab_type": "text"
      },
      "source": [
        "- A seguir, apresentaremos duas funções para encontrar um modelo que melhor representa os nossos dados gerados na célula anterior.\n",
        "- A função fit_polynomial encontra os melhores parâmetros do regressor polinomial para a entrada de acordo com o grau do polinômio *d*. \n",
        "- A função apply_polynomial, usa o modelo encontrado na função anterior para tentar se adequar/prever o seu comportamento em uma nova entrada *x* usando um grau *d*.\n"
      ]
    },
    {
      "cell_type": "code",
      "metadata": {
        "id": "w0OAPjf2_e6i",
        "colab_type": "code",
        "colab": {}
      },
      "source": [
        "\n",
        "from sklearn.linear_model import LinearRegression\n",
        "\n",
        "def fit_polynomial(x, y, d):\n",
        "  poly_reg = PolynomialFeatures(degree=d)\n",
        "  X_poly = poly_reg.fit_transform(x.reshape(-1, 1))\n",
        "\n",
        "  lin_reg = LinearRegression()\n",
        "  lin_reg.fit(X_poly, y.reshape(-1, 1))\n",
        "  return lin_reg\n",
        "def apply_polynomial(model, x, d):\n",
        "  poly_reg = PolynomialFeatures(degree=d)\n",
        "  X_poly = poly_reg.fit_transform(x.reshape(-1, 1))\n",
        "  y_pred = model.predict(X_poly)\n",
        "  return y_pred"
      ],
      "execution_count": null,
      "outputs": []
    },
    {
      "cell_type": "markdown",
      "metadata": {
        "id": "pjZpvKMmO9-Z",
        "colab_type": "text"
      },
      "source": [
        "- Para entender melhor, utilize a interação abaixo para o modelo encontrar diferentes comportamentos para um dado grau *d*."
      ]
    },
    {
      "cell_type": "code",
      "metadata": {
        "id": "6dTglrG5FY1E",
        "colab_type": "code",
        "colab": {}
      },
      "source": [
        "from sklearn.linear_model import LinearRegression\n",
        "from sklearn.preprocessing import PolynomialFeatures \n",
        "from sklearn.pipeline import make_pipeline\n",
        "import operator\n",
        "\n",
        "def fit_and_apply(degree):\n",
        "  model = fit_polynomial(x, y, degree)\n",
        "  p_y = apply_polynomial(model, x, degree)\n",
        "  \n",
        "  fig, ax = plt.subplots(figsize=(10,6))\n",
        "  ax.plot(x,p_y, label='Polinômio gerado pelo modelo.')\n",
        "  ax.scatter(x, y, marker='x',color='gray', label='Instâncias de entrada X')\n",
        "  ax.legend()"
      ],
      "execution_count": null,
      "outputs": []
    },
    {
      "cell_type": "markdown",
      "metadata": {
        "id": "_j_ZnBUIY_pI",
        "colab_type": "text"
      },
      "source": [
        "- Perceba que quanto maior o grau do polinômio, mais ele se adequa as instâncias de entrada."
      ]
    },
    {
      "cell_type": "code",
      "metadata": {
        "id": "wa-qbt-jO0R0",
        "colab_type": "code",
        "colab": {
          "base_uri": "https://localhost:8080/",
          "height": 423,
          "referenced_widgets": [
            "c1ce3b28d4354eb2b4cc53407c9d1b48",
            "a407936ddaca4c8cbbef7233e847c9dc",
            "1ca9c939bcd840b591554c9a9a073a12",
            "cb1321917ade43dcbe23a32b8c84078f",
            "5f0dada6b41a425da2cb7c435a1b30cb",
            "0be035aea78c4536aa3d00f821f63739",
            "904e5e7471f44d6095adfd35fbe90384"
          ]
        },
        "outputId": "ec817a50-976b-4a10-fcd0-db5ad077a88c"
      },
      "source": [
        "interact(fit_and_apply,degree=widgets.IntSlider(min=0,max=20,step=1,value=20))"
      ],
      "execution_count": null,
      "outputs": [
        {
          "output_type": "display_data",
          "data": {
            "application/vnd.jupyter.widget-view+json": {
              "model_id": "c1ce3b28d4354eb2b4cc53407c9d1b48",
              "version_minor": 0,
              "version_major": 2
            },
            "text/plain": [
              "interactive(children=(IntSlider(value=20, description='degree', max=20), Output()), _dom_classes=('widget-inte…"
            ]
          },
          "metadata": {
            "tags": []
          }
        },
        {
          "output_type": "execute_result",
          "data": {
            "text/plain": [
              "<function __main__.fit_and_apply>"
            ]
          },
          "metadata": {
            "tags": []
          },
          "execution_count": 6
        }
      ]
    },
    {
      "cell_type": "code",
      "metadata": {
        "id": "GnCakNhVPR06",
        "colab_type": "code",
        "colab": {}
      },
      "source": [
        "from sklearn.model_selection import train_test_split\n",
        "x_train = x\n",
        "y_train = y\n",
        "x_test,y_test = sample(MAX_LIM, int(TOTAL_INSTANCES * 0.3), SPACING)\n",
        "# x_train,x_test,y_train,y_test = train_test_split(x,y,test_size=0.3)"
      ],
      "execution_count": null,
      "outputs": []
    },
    {
      "cell_type": "code",
      "metadata": {
        "id": "bBHC-qWJaYQp",
        "colab_type": "code",
        "colab": {}
      },
      "source": [
        "from numpy.linalg import norm\n",
        "import seaborn as sns\n",
        "from mlxtend.evaluate import bias_variance_decomp\n",
        "\n",
        "# mse, bias, var = bias_variance_decomp(model, X_train, y_train, X_test, y_test, loss='mse', num_rounds=200, random_seed=1)\n",
        "font=22\n",
        "n_samples = int(20)\n",
        "\n",
        "\n",
        "f_x, f_y = f(MAX_LIM, n_samples)\n",
        "\n",
        "# f_x, f_y = f(n_samples)\n",
        "max_degree = 17\n",
        "\n",
        "var_vals =[]\n",
        "bias_vals = []\n",
        "error_vals = []\n",
        "\n",
        "def autolabel(rects):\n",
        "    \"\"\"Attach a text label above each bar in *rects*, displaying its height.\"\"\"\n",
        "    for rect in rects:\n",
        "        height = rect.get_height()\n",
        "        ax.annotate('{}'.format(height),\n",
        "                    xy=(rect.get_x() + rect.get_width() / 2, height),\n",
        "                    xytext=(0, 3),  # 3 points vertical offset\n",
        "                    textcoords=\"offset points\",\n",
        "                    ha='center', va='bottom')\n",
        "\n",
        "\n",
        "def fit_tests_with_metrics(degree):\n",
        "  poly_reg = PolynomialFeatures(degree=degree)\n",
        "  x_train_p = poly_reg.fit_transform(x_train.reshape(-1, 1))\n",
        "  x_test_p = poly_reg.fit_transform(x_test.reshape(-1, 1))\n",
        "  \n",
        "  model = LinearRegression()\n",
        "  avg_expected_loss, avg_bias, avg_var = bias_variance_decomp(model, x_train_p, y_train, x_test_p, y_test, loss='mse', random_seed=123)\n",
        "  p_y = model.predict(x_test_p)\n",
        "  return (p_y, avg_bias, avg_var, avg_expected_loss)\n",
        "\n",
        "def fit_tests_with_metrics_plot(degree):\n",
        "\n",
        "  p_y, avg_bias, avg_var, avg_expected_loss = fit_tests_with_metrics(degree)\n",
        "\n",
        "  plt.figure(figsize=(10,10))\n",
        "  plt.subplot(211)\n",
        "  plt.title(\"Model fitting for degree = \" + str(degree))\n",
        "  plt.scatter(x_train,y_train,marker='x',color='gray',label=\"Instances used for training\")\n",
        "  plt.plot(x_test, p_y, label=\"Predicted regressor for testing instances\")\n",
        "  plt.legend()\n",
        "\n",
        "\n",
        "  plt.subplot(212)\n",
        "  ax = plt.gca()\n",
        "  plt.title(\"Model erros\")\n",
        "\n",
        "  plt.bar(['bias','variance','squared-error'],[avg_bias,avg_var,avg_expected_loss])\n",
        "  ax.set_xticklabels([\"bias\",\"variance\",\"squared-error\"],fontsize=15)\n",
        "\n",
        "\n",
        "\n",
        "  plt.show() \n",
        "  "
      ],
      "execution_count": null,
      "outputs": []
    },
    {
      "cell_type": "code",
      "metadata": {
        "id": "D0-EgMQyemzB",
        "colab_type": "code",
        "colab": {
          "base_uri": "https://localhost:8080/",
          "height": 661,
          "referenced_widgets": [
            "ea6bda312ce04559933d31c7967dba75",
            "c0b6f95e807d4e0789102b5e3544549f",
            "07c7dcf05c564e6f99f2a024b8ca3e41",
            "5c2f8b55da984b2ca91ef9ed907afe56",
            "982e04cbf4b84ef2b9a276ab56c55b2e",
            "2d1bfdc48b2e44dfa08a0c6f18ccde36",
            "20d341b5e32e4c4db7c9fa16db8772e9"
          ]
        },
        "outputId": "a1c4d3de-a124-4d7f-ad8d-4ef839cfe56e"
      },
      "source": [
        "interact(fit_tests_with_metrics_plot,degree=widgets.IntSlider(min=0,max=20,step=1,value=20))"
      ],
      "execution_count": null,
      "outputs": [
        {
          "output_type": "display_data",
          "data": {
            "application/vnd.jupyter.widget-view+json": {
              "model_id": "ea6bda312ce04559933d31c7967dba75",
              "version_minor": 0,
              "version_major": 2
            },
            "text/plain": [
              "interactive(children=(IntSlider(value=20, description='degree', max=20), Output()), _dom_classes=('widget-inte…"
            ]
          },
          "metadata": {
            "tags": []
          }
        },
        {
          "output_type": "execute_result",
          "data": {
            "text/plain": [
              "<function __main__.fit_tests_with_metrics_plot>"
            ]
          },
          "metadata": {
            "tags": []
          },
          "execution_count": 25
        }
      ]
    },
    {
      "cell_type": "code",
      "metadata": {
        "id": "kevsWSTc--w4",
        "colab_type": "code",
        "colab": {
          "base_uri": "https://localhost:8080/",
          "height": 391
        },
        "outputId": "be1b8835-9cfd-4a3b-cfe4-a528d850d2af"
      },
      "source": [
        "from numpy.linalg import norm\n",
        "import seaborn as sns\n",
        "from mlxtend.evaluate import bias_variance_decomp\n",
        "\n",
        "# mse, bias, var = bias_variance_decomp(model, X_train, y_train, X_test, y_test, loss='mse', num_rounds=200, random_seed=1)\n",
        "\n",
        "n_samples = int(20)\n",
        "\n",
        "\n",
        "f_x, f_y = f(MAX_LIM, n_samples)\n",
        "\n",
        "# f_x, f_y = f(n_samples)\n",
        "max_degree = 17\n",
        "\n",
        "var_vals =[]\n",
        "bias_vals = []\n",
        "error_vals = []\n",
        "\n",
        "PLOT = False\n",
        "for degree in range(1, max_degree+1):\n",
        "  _,bias,var,error = fit_tests_with_metrics(degree)\n",
        "  bias_vals.append(bias)\n",
        "  var_vals.append(var)\n",
        "  error_vals.append(error)\n",
        "\n",
        "plt.figure(figsize=(10,6))\n",
        "\n",
        "plt.plot(range(1, max_degree+1), bias_vals, label='bias')\n",
        "plt.plot(range(1, max_degree+1), var_vals, label='variance')\n",
        "plt.plot(range(1, max_degree+1), error_vals, label='error')\n",
        "plt.legend()"
      ],
      "execution_count": null,
      "outputs": [
        {
          "output_type": "execute_result",
          "data": {
            "text/plain": [
              "<matplotlib.legend.Legend at 0x7fccb5f6b240>"
            ]
          },
          "metadata": {
            "tags": []
          },
          "execution_count": 26
        },
        {
          "output_type": "display_data",
          "data": {
            "image/png": "[encoded data removed]",
            "text/plain": [
              "<Figure size 720x432 with 1 Axes>"
            ]
          },
          "metadata": {
            "tags": [],
            "needs_background": "light"
          }
        }
      ]
    }
  ]
}